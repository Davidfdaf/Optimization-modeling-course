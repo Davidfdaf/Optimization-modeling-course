{
 "cells": [
  {
   "cell_type": "code",
   "execution_count": 1,
   "id": "b0c265b9-c4c4-41cb-8792-4a12e49bbfe2",
   "metadata": {},
   "outputs": [
    {
     "ename": "RuntimeError",
     "evalue": "module compiled against API version 0xe but this version of numpy is 0xd",
     "output_type": "error",
     "traceback": [
      "\u001b[0;31m---------------------------------------------------------------------------\u001b[0m",
      "\u001b[0;31mRuntimeError\u001b[0m                              Traceback (most recent call last)",
      "\u001b[0;31mRuntimeError\u001b[0m: module compiled against API version 0xe but this version of numpy is 0xd"
     ]
    },
    {
     "name": "stdout",
     "output_type": "stream",
     "text": [
      "(CVXPY) Apr 22 06:22:03 PM: Encountered unexpected exception importing solver ECOS:\n",
      "ImportError('numpy.core.multiarray failed to import')\n"
     ]
    },
    {
     "ename": "RuntimeError",
     "evalue": "module compiled against API version 0xe but this version of numpy is 0xd",
     "output_type": "error",
     "traceback": [
      "\u001b[0;31m---------------------------------------------------------------------------\u001b[0m",
      "\u001b[0;31mRuntimeError\u001b[0m                              Traceback (most recent call last)",
      "\u001b[0;31mRuntimeError\u001b[0m: module compiled against API version 0xe but this version of numpy is 0xd"
     ]
    },
    {
     "name": "stdout",
     "output_type": "stream",
     "text": [
      "(CVXPY) Apr 22 06:22:03 PM: Encountered unexpected exception importing solver ECOS_BB:\n",
      "ImportError('numpy.core.multiarray failed to import')\n"
     ]
    }
   ],
   "source": [
    "import pandas as pd\n",
    "from pandas_datareader import data, wb\n",
    "from datetime import datetime\n",
    "import matplotlib.pyplot as plt\n",
    "from scipy import stats, integrate\n",
    "\n",
    "import cvxpy as cp"
   ]
  },
  {
   "cell_type": "code",
   "execution_count": 2,
   "id": "7a4cd5f2-e6a8-453a-bdbc-1b9e924d1b33",
   "metadata": {},
   "outputs": [],
   "source": [
    "import numpy as np"
   ]
  },
  {
   "cell_type": "code",
   "execution_count": 3,
   "id": "c9a4aaf1-81ba-4ea0-8058-0be8d24a2eae",
   "metadata": {},
   "outputs": [],
   "source": [
    "from pypfopt.efficient_frontier import EfficientFrontier\n",
    "from pypfopt import risk_models\n",
    "from pypfopt import expected_returns"
   ]
  },
  {
   "cell_type": "code",
   "execution_count": 4,
   "id": "0097c215-1b67-4455-9e84-ef5780baeeb5",
   "metadata": {},
   "outputs": [],
   "source": [
    "def import_data(tickers, start, end, give = \"R\", adj_close = True, dividend = True):#read in stock data  \n",
    "    \"\"\"\n",
    "    tickers: tickers to read \n",
    "    start, end: dates in datetime.datetime(2015,12,1) format\n",
    "    give: return prices or returns \n",
    "    adj_close: use adjusted or unadjusted price\n",
    "    dividend: include dividend?\n",
    "    \"\"\"\n",
    "    \n",
    "    if give=='D':\n",
    "        adj_close=False\n",
    "        dividend = True\n",
    "    \n",
    "    stocks = pd.DataFrame()\n",
    "    if (adj_close == True):\n",
    "        dividend = False\n",
    "        stocks[tickers] = data.DataReader(tickers, 'yahoo', start, end)['Adj Close']\n",
    "    else:\n",
    "        stocks[tickers] = data.DataReader(tickers, 'yahoo', start, end)['Close']\n",
    "            \n",
    "        if (dividend == True): \n",
    "            stock_div = pd.DataFrame(index=stocks.index)\n",
    "            for tick in tickers:\n",
    "                stock_div[tick+' div'] = data.DataReader(tick, 'yahoo-dividends', start, end)[\"value\"]\n",
    "      \n",
    "    just_stocks=stocks\n",
    "    if (dividend == True):\n",
    "        stocks = pd.concat([stocks,stock_div],axis=1)\n",
    "        stocks = stocks.fillna(0)\n",
    "        \n",
    "    if(give == \"R\"):\n",
    "        #Adding dividends to price appreciation on a daily percent return basis -useful for all analysis\n",
    "        raw_returns=pd.DataFrame()\n",
    "        for tick in tickers:\n",
    "            if (dividend == True):\n",
    "                raw_returns[tick] = stocks[tick].pct_change() + stocks[tick+' div']/stocks[tick] \n",
    "                #dividends are actually added on the day before they should be added but this error is neglegible\n",
    "            else:\n",
    "                raw_returns[tick] = stocks[tick].pct_change()\n",
    "        returns=raw_returns[1:]\n",
    "        return returns[np.isfinite(returns).all(1)]\n",
    "        \n",
    "    if(give == \"P\"):\n",
    "        return just_stocks\n",
    "    \n",
    "    if(give==\"D\"):\n",
    "        dividend = pd.DataFrame(np.array(stocks.iloc[:,len(just_stocks.columns):])/np.array(stocks.iloc[:,:len(just_stocks.columns)])).set_index(just_stocks.index)\n",
    "        dividend.columns=just_stocks.columns\n",
    "        return dividend"
   ]
  },
  {
   "cell_type": "code",
   "execution_count": 9,
   "id": "6ba4f16c-d2d1-4226-beaf-f67aa5a6007e",
   "metadata": {},
   "outputs": [],
   "source": [
    "start = datetime(2007,1,1)\n",
    "end = datetime(2015,6,19)#when XLRE,XLC was introduced\n",
    "tickers = ['XLV','XLI','XLB','XLK','XLU','XLY','XLP','XLF','XLE','SHY'] #.         #XLRE, XLC\n",
    "sectordata = import_data(tickers, start, end).resample(\"W\").apply(lambda x: ((x + 1).cumprod()-1).last(\"D\")) "
   ]
  },
  {
   "cell_type": "code",
   "execution_count": 24,
   "id": "7858d845-6094-45c3-930f-84a1e7b3f9eb",
   "metadata": {},
   "outputs": [
    {
     "data": {
      "text/html": [
       "<div>\n",
       "<style scoped>\n",
       "    .dataframe tbody tr th:only-of-type {\n",
       "        vertical-align: middle;\n",
       "    }\n",
       "\n",
       "    .dataframe tbody tr th {\n",
       "        vertical-align: top;\n",
       "    }\n",
       "\n",
       "    .dataframe thead th {\n",
       "        text-align: right;\n",
       "    }\n",
       "</style>\n",
       "<table border=\"1\" class=\"dataframe\">\n",
       "  <thead>\n",
       "    <tr style=\"text-align: right;\">\n",
       "      <th></th>\n",
       "      <th>XLV</th>\n",
       "      <th>XLI</th>\n",
       "      <th>XLB</th>\n",
       "      <th>XLK</th>\n",
       "      <th>XLU</th>\n",
       "      <th>XLY</th>\n",
       "      <th>XLP</th>\n",
       "      <th>XLF</th>\n",
       "      <th>XLE</th>\n",
       "      <th>SHY</th>\n",
       "    </tr>\n",
       "    <tr>\n",
       "      <th>Date</th>\n",
       "      <th></th>\n",
       "      <th></th>\n",
       "      <th></th>\n",
       "      <th></th>\n",
       "      <th></th>\n",
       "      <th></th>\n",
       "      <th></th>\n",
       "      <th></th>\n",
       "      <th></th>\n",
       "      <th></th>\n",
       "    </tr>\n",
       "  </thead>\n",
       "  <tbody>\n",
       "    <tr>\n",
       "      <th>2007-01-07</th>\n",
       "      <td>0.005672</td>\n",
       "      <td>-0.007664</td>\n",
       "      <td>-0.011268</td>\n",
       "      <td>0.007287</td>\n",
       "      <td>-0.019283</td>\n",
       "      <td>-0.007009</td>\n",
       "      <td>-0.005706</td>\n",
       "      <td>-0.011105</td>\n",
       "      <td>-0.011665</td>\n",
       "      <td>0.000376</td>\n",
       "    </tr>\n",
       "    <tr>\n",
       "      <th>2007-01-14</th>\n",
       "      <td>0.017513</td>\n",
       "      <td>0.017735</td>\n",
       "      <td>0.029515</td>\n",
       "      <td>0.022127</td>\n",
       "      <td>-0.006646</td>\n",
       "      <td>0.026405</td>\n",
       "      <td>0.014154</td>\n",
       "      <td>0.013421</td>\n",
       "      <td>-0.008584</td>\n",
       "      <td>-0.001874</td>\n",
       "    </tr>\n",
       "    <tr>\n",
       "      <th>2007-01-21</th>\n",
       "      <td>0.011377</td>\n",
       "      <td>0.001124</td>\n",
       "      <td>0.015328</td>\n",
       "      <td>-0.026644</td>\n",
       "      <td>0.005018</td>\n",
       "      <td>0.008915</td>\n",
       "      <td>0.003772</td>\n",
       "      <td>-0.001081</td>\n",
       "      <td>0.020563</td>\n",
       "      <td>0.000876</td>\n",
       "    </tr>\n",
       "    <tr>\n",
       "      <th>2007-01-28</th>\n",
       "      <td>-0.012691</td>\n",
       "      <td>-0.011510</td>\n",
       "      <td>0.008667</td>\n",
       "      <td>-0.001283</td>\n",
       "      <td>0.005548</td>\n",
       "      <td>-0.019692</td>\n",
       "      <td>-0.004510</td>\n",
       "      <td>-0.003788</td>\n",
       "      <td>0.004772</td>\n",
       "      <td>-0.000251</td>\n",
       "    </tr>\n",
       "    <tr>\n",
       "      <th>2007-02-04</th>\n",
       "      <td>0.014607</td>\n",
       "      <td>0.027833</td>\n",
       "      <td>0.015244</td>\n",
       "      <td>0.017130</td>\n",
       "      <td>0.023449</td>\n",
       "      <td>0.022663</td>\n",
       "      <td>0.011703</td>\n",
       "      <td>0.015481</td>\n",
       "      <td>0.031311</td>\n",
       "      <td>0.001753</td>\n",
       "    </tr>\n",
       "  </tbody>\n",
       "</table>\n",
       "</div>"
      ],
      "text/plain": [
       "                 XLV       XLI       XLB       XLK       XLU       XLY  \\\n",
       "Date                                                                     \n",
       "2007-01-07  0.005672 -0.007664 -0.011268  0.007287 -0.019283 -0.007009   \n",
       "2007-01-14  0.017513  0.017735  0.029515  0.022127 -0.006646  0.026405   \n",
       "2007-01-21  0.011377  0.001124  0.015328 -0.026644  0.005018  0.008915   \n",
       "2007-01-28 -0.012691 -0.011510  0.008667 -0.001283  0.005548 -0.019692   \n",
       "2007-02-04  0.014607  0.027833  0.015244  0.017130  0.023449  0.022663   \n",
       "\n",
       "                 XLP       XLF       XLE       SHY  \n",
       "Date                                                \n",
       "2007-01-07 -0.005706 -0.011105 -0.011665  0.000376  \n",
       "2007-01-14  0.014154  0.013421 -0.008584 -0.001874  \n",
       "2007-01-21  0.003772 -0.001081  0.020563  0.000876  \n",
       "2007-01-28 -0.004510 -0.003788  0.004772 -0.000251  \n",
       "2007-02-04  0.011703  0.015481  0.031311  0.001753  "
      ]
     },
     "execution_count": 24,
     "metadata": {},
     "output_type": "execute_result"
    }
   ],
   "source": [
    "sectordata.head()"
   ]
  },
  {
   "cell_type": "code",
   "execution_count": 11,
   "id": "56747c17-4548-4c17-ad17-6c0cfedfc4bb",
   "metadata": {},
   "outputs": [],
   "source": [
    "#sectordata['SHY'] = sectordata['SHY']+.01"
   ]
  },
  {
   "cell_type": "code",
   "execution_count": 12,
   "id": "450c1dbe-87e3-464a-9aa7-43f936425a60",
   "metadata": {},
   "outputs": [
    {
     "data": {
      "text/plain": [
       "<AxesSubplot:xlabel='Date'>"
      ]
     },
     "execution_count": 12,
     "metadata": {},
     "output_type": "execute_result"
    },
    {
     "data": {
      "image/png": "[encoded data removed]",
      "text/plain": [
       "<Figure size 432x288 with 1 Axes>"
      ]
     },
     "metadata": {
      "needs_background": "light"
     },
     "output_type": "display_data"
    }
   ],
   "source": [
    "(sectordata+1).cumprod().plot()"
   ]
  },
  {
   "cell_type": "code",
   "execution_count": 13,
   "id": "aae87557-edc5-4e86-82d0-26969894c4f5",
   "metadata": {},
   "outputs": [],
   "source": [
    "def calculate_posterior_mean(like_pop, prior_pop):\n",
    "    mu0 = prior_pop.mean()\n",
    "    w0 = prior_pop.std()\n",
    "    dbar = like_pop.mean()\n",
    "    w = like_pop.std()\n",
    "    # Prior:\n",
    "    prior = stats.norm(mu0, w0)\n",
    "    # Likelihood:\n",
    "    like = stats.norm(dbar, w)\n",
    "    #computer posterior mean, std, distribution\n",
    "    B = w**2/(w**2+w0**2)\n",
    "    mu_s =dbar+B*(mu0-dbar)\n",
    "    w_s = w*np.sqrt(1-B)\n",
    "    posterior = stats.norm(mu_s, w_s)\n",
    "    return mu_s\n",
    "\n",
    "#calculated expected return array\n",
    "def likelihood_n_posterior_mus(n, data, period=16): #period of 16 is 3 months with weekly data\n",
    "    like_mus = np.zeros(len(data.columns))\n",
    "    post_mus = np.zeros(len(data.columns))\n",
    "    for ints,sector in enumerate(data\n",
    "                                 .columns): \n",
    "        likelihood_pop = np.array(data.iloc[n-period : n - 1][sector])\n",
    "        prior_pop = np.array(data.iloc[n-period : n - 1])\n",
    "        like_mus[ints] = likelihood_pop.mean() #normal mean opt \n",
    "        post_mus[ints] = calculate_posterior_mean(likelihood_pop,prior_pop) #bayesian means \n",
    "    return like_mus, post_mus"
   ]
  },
  {
   "cell_type": "code",
   "execution_count": 14,
   "id": "9a97aafd-accf-4d0f-a56a-de6afe0e8be1",
   "metadata": {},
   "outputs": [],
   "source": [
    "def max_sharpe(mu,cov):\n",
    "    # Minimize portfolio Sharpe for given return (ret)\n",
    "    z = cp.Variable(len(mu),) #transformed variable\n",
    "    k = cp.Variable() #scalar (variable)\n",
    "    ret = z.T @ mu\n",
    "    sigma_square = cp.quad_form(z, cov)\n",
    "    objective = cp.Minimize (sigma_square)\n",
    "    constraints = [\n",
    "                    ret == 1, #adjustable return target constraint\n",
    "                    cp.sum(z) == k,\n",
    "                    z >= 0,\n",
    "                    k >= 0\n",
    "                    ]\n",
    "    prob = cp.Problem(objective, constraints)\n",
    "    prob.solve(verbose = False)\n",
    "    return (z.value / k.value)\n",
    "\n",
    "def weighted_stuff(n, dat):\n",
    "    dat = np.array(dat)\n",
    "    alpha = 0.5\n",
    "    weights = np.flip((1-alpha)**np.arange(0,len(dat),1))\n",
    "    weights = weights/np.sum(weights) # normalize\n",
    "    weighted = dat.T*weights\n",
    "    w_means = np.sum(weighted,axis=1)                             # weighted means\n",
    "    w_covs = dat.T@np.diag(weights)@dat-np.outer(w_means,w_means) # weighted covs\n",
    "    return w_covs #w_means, \n",
    "\n",
    "def tangent_rebalance(stocks, n, formation_period, port, weights, total, expt_rtn = 'like', Lower_bound=0, Upper_bound=1,annualizer = 52, muf = 0, wcov = False, pyopt_weights = False):\n",
    "    likeMu, postMu = likelihood_n_posterior_mus(n, period=formation_period, data = stocks)\n",
    "    if wcov == False:\n",
    "        cov = stocks[n-formation_period : n - 1].cov()\n",
    "    if wcov == True:\n",
    "        cov = weighted_stuff(n, stocks[n-formation_period : n - 1]) #weighted cov\n",
    "    if expt_rtn == 'like':\n",
    "        tangent_weights = max_sharpe(likeMu,cov)\n",
    "        ef = EfficientFrontier(likeMu, cov)\n",
    "    elif expt_rtn == 'not like':\n",
    "        tangent_weights = max_sharpe(postMu,cov)\n",
    "        ef = EfficientFrontier(postMu, cov)\n",
    "\n",
    "    #print(\"pyopt weights\", ef.max_sharpe())\n",
    "    if pyopt_weights==False:\n",
    "        return tangent_weights\n",
    "    if pyopt_weights == True:\n",
    "        return np.array(list(ef.max_sharpe().values()))"
   ]
  },
  {
   "cell_type": "code",
   "execution_count": 15,
   "id": "d8ef44c4-cb74-4723-9328-685712d8e896",
   "metadata": {},
   "outputs": [],
   "source": [
    "def backtest(weights, col, dataf, expt_rtns = 'like', wcov = False, days_between_rebalance=1, show_weights=False, wealth = 1, RebalanceOffset=0,formation = 0, pyopt = False): #cols allows users to backtest subsets of dataframe\n",
    "    \"\"\"\n",
    "    weights: tells the function the number of assets. sets the starting weights and is the weights for constant rebalancing\n",
    "    wealth: sets starting value\n",
    "    RebalanceOffset: to offset day of rebalances by these values to provide information about rebalance timing luck\n",
    "    give: return returns or prices\n",
    "    formation: number of days covariance matrix is formed over\n",
    "    \n",
    "    \"\"\"\n",
    "    colin=[0]*len(weights)\n",
    "    port=[0]*len(weights)\n",
    "    worth=[wealth]\n",
    "\n",
    "    for n in range(len(weights)):\n",
    "        colin[n] = dataf.columns.get_loc(col[n])\n",
    "        port[n]=wealth*weights[n]\n",
    "\n",
    "    for n in range (formation,len(dataf)):\n",
    "        \n",
    "        return_vector = np.array((1+dataf.iloc[n,colin]))\n",
    "        \n",
    "        #print(\"port weights\", port)\n",
    "        #print(\"value\", sum(port))\n",
    "        #print(\"asset returns\",return_vector)\n",
    "        \n",
    "        port = np.multiply(port, return_vector)\n",
    "\n",
    "        #print(\"new_port\",np.round(port,3))\n",
    "        #print(\"value\", sum(port))\n",
    "        end_of_day = sum(port)\n",
    "        worth.append(end_of_day)\n",
    "        \n",
    "        if ((n + RebalanceOffset)% days_between_rebalance==0):        #rebalance\n",
    "            port=tangent_rebalance(dataf, n, formation, port, weights, total = sum(port), expt_rtn = expt_rtns, wcov = wcov, pyopt_weights = pyopt)*end_of_day\n",
    "            if show_weights == True:\n",
    "                print(np.round(np.array(port/sum(port)),2))\n",
    "        \n",
    "                           \n",
    "    return pd.DataFrame(worth).pct_change()[1:].set_index(dataf.index[formation:])"
   ]
  },
  {
   "cell_type": "code",
   "execution_count": 21,
   "id": "7614ea38-f1df-4219-9561-07c48a902aa3",
   "metadata": {},
   "outputs": [],
   "source": [
    "initial_weights = np.ones(len(sectordata.columns))/len(sectordata.columns)\n",
    "\n",
    "#standard covariance 5 yr lookback for expted returns and covariance\n",
    "likelihood = backtest(initial_weights, sectordata.columns, sectordata, formation = 63, expt_rtns = 'like')\n",
    "posterior = backtest(initial_weights, sectordata.columns, sectordata, formation = 63, expt_rtns = 'not like')"
   ]
  },
  {
   "cell_type": "code",
   "execution_count": 22,
   "id": "6ab597f4-8dd6-4c99-a4e8-278fa9ec1ebe",
   "metadata": {},
   "outputs": [],
   "source": [
    "comparisons = pd.concat([likelihood.rename({0:'like'},axis=1),posterior.rename({0:'post'},axis=1)], axis=1)"
   ]
  },
  {
   "cell_type": "code",
   "execution_count": 23,
   "id": "eeb3df34-b9ee-4631-b15e-75608a4ad9bc",
   "metadata": {},
   "outputs": [
    {
     "data": {
      "text/plain": [
       "<AxesSubplot:xlabel='Date'>"
      ]
     },
     "execution_count": 23,
     "metadata": {},
     "output_type": "execute_result"
    },
    {
     "data": {
      "image/png": "[encoded data removed]",
      "text/plain": [
       "<Figure size 432x288 with 1 Axes>"
      ]
     },
     "metadata": {
      "needs_background": "light"
     },
     "output_type": "display_data"
    }
   ],
   "source": [
    "((comparisons+1).cumprod()).plot()"
   ]
  },
  {
   "cell_type": "code",
   "execution_count": null,
   "id": "8b88f36e-46ba-4b0e-a18c-6b708dc21076",
   "metadata": {},
   "outputs": [],
   "source": []
  },
  {
   "cell_type": "code",
   "execution_count": null,
   "id": "603d7c3f-3126-4b56-9c0b-5872edc7ad7a",
   "metadata": {},
   "outputs": [],
   "source": []
  },
  {
   "cell_type": "code",
   "execution_count": 31,
   "id": "03f808d4-2d72-46c2-9438-12f2842f0934",
   "metadata": {},
   "outputs": [],
   "source": []
  },
  {
   "cell_type": "code",
   "execution_count": null,
   "id": "63ef5698-e2e0-4943-a25d-a6300ff8e9d5",
   "metadata": {},
   "outputs": [],
   "source": []
  },
  {
   "cell_type": "code",
   "execution_count": 47,
   "id": "2c0cd692-9da8-496a-a412-f064ee20f578",
   "metadata": {},
   "outputs": [],
   "source": [
    "mu = expected_returns.mean_historical_return(sectordata, returns_data=True,frequency=12)\n",
    "S = risk_models.sample_cov(sectordata, returns_data=True,frequency=12)"
   ]
  },
  {
   "cell_type": "code",
   "execution_count": null,
   "id": "341a01fd-ec0f-4bea-a07e-c811bc0fff4c",
   "metadata": {},
   "outputs": [],
   "source": []
  },
  {
   "cell_type": "code",
   "execution_count": 49,
   "id": "bd9a0e79-a1ea-49b6-9c7b-771de6e91f5f",
   "metadata": {},
   "outputs": [
    {
     "name": "stdout",
     "output_type": "stream",
     "text": [
      "Expected annual return: 4.1%\n",
      "Annual volatility: 2.4%\n",
      "Sharpe Ratio: 0.84\n"
     ]
    },
    {
     "data": {
      "text/plain": [
       "(0.04054834458401306, 0.024337359784864832, 0.8443128081950728)"
      ]
     },
     "execution_count": 49,
     "metadata": {},
     "output_type": "execute_result"
    }
   ],
   "source": [
    "# Calculate expected returns and sample covariance\n",
    "\n",
    "\n",
    "# Optimize for maximal Sharpe ratio\n",
    "\n",
    "\n",
    "mu = expected_returns.mean_historical_return(sectordata, returns_data=True,frequency=12)\n",
    "S = risk_models.sample_cov(sectordata, returns_data=True,frequency=12)\n",
    "ef = EfficientFrontier(mu, S)\n",
    "weights = ef.max_sharpe()\n",
    "ef.portfolio_performance(verbose=True)"
   ]
  },
  {
   "cell_type": "code",
   "execution_count": null,
   "id": "64d66a02-8570-452a-8950-04c5f32e01bb",
   "metadata": {},
   "outputs": [],
   "source": [
    "experiments, shrinkage for expected returns     #, shrinkage of cov, exponential weighting for both"
   ]
  }
 ],
 "metadata": {
  "kernelspec": {
   "display_name": "tfenv",
   "language": "python",
   "name": "tfenv"
  },
  "language_info": {
   "codemirror_mode": {
    "name": "ipython",
    "version": 3
   },
   "file_extension": ".py",
   "mimetype": "text/x-python",
   "name": "python",
   "nbconvert_exporter": "python",
   "pygments_lexer": "ipython3",
   "version": "3.8.10"
  }
 },
 "nbformat": 4,
 "nbformat_minor": 5
}
