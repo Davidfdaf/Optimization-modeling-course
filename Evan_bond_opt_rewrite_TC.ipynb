{
 "cells": [
  {
   "cell_type": "markdown",
   "metadata": {
    "colab_type": "text",
    "id": "view-in-github"
   },
   "source": [
    "<a href=\"https://colab.research.google.com/github/Davidfdaf/Optimization-modeling-course/blob/main/Evan_bond_opt_rewrite.ipynb\" target=\"_parent\"><img src=\"https://colab.research.google.com/assets/colab-badge.svg\" alt=\"Open In Colab\"/></a>"
   ]
  },
  {
   "cell_type": "code",
   "execution_count": 1,
   "metadata": {
    "colab": {
     "base_uri": "https://localhost:8080/"
    },
    "id": "vrApAUxDgfRU",
    "outputId": "4cc8ef7c-e1b3-4b75-c08b-6fac0ea87dd9"
   },
   "outputs": [
    {
     "name": "stdout",
     "output_type": "stream",
     "text": [
      "Requirement already satisfied: PuLP in c:\\users\\taino\\anaconda3\\lib\\site-packages (2.6.0)\n",
      "Note: you may need to restart the kernel to use updated packages.\n"
     ]
    }
   ],
   "source": [
    "pip install PuLP"
   ]
  },
  {
   "cell_type": "code",
   "execution_count": 2,
   "metadata": {
    "id": "DdyP-s7sglHT"
   },
   "outputs": [],
   "source": [
    "import pandas as pd\n",
    "from dateutil.relativedelta import relativedelta\n",
    "from datetime import datetime\n",
    "import math\n",
    "import numpy as np\n",
    "from pulp import *"
   ]
  },
  {
   "cell_type": "code",
   "execution_count": null,
   "metadata": {
    "id": "fJZUh9uNgjwN"
   },
   "outputs": [],
   "source": [
    "#params\n",
    "Portfolio=None\n",
    "Arated=.20\n",
    "duration=5.25\n",
    "Subs=3\n",
    "bonds=25\n",
    "oneyearmature=0\n",
    "LadderStart=3\n",
    "LadderLength=7\n",
    "MaxPerYear=5\n",
    "maxladderlength=11\n",
    "\n",
    "sectorConstraints = {\n",
    "    'CS':.2,\n",
    "    'CD':.2,\n",
    "    'CST':.2,\n",
    "    'F':9/25,\n",
    "    'HC':.2,\n",
    "    'I':.2,\n",
    "    'IT':.2,\n",
    "    'U':.15\n",
    "}\n",
    "\n",
    "\n",
    "#Read in data, previous port and ceate lpclass\n",
    "df = pd.read_excel(\"IG Universe.xlsx\")\n",
    "\n",
    "now = datetime.now().strftime('%Y-%m-%d %H %M %S')\n",
    "prob = LpProblem(\"Corporate_Bond_Portfolio\", LpMaximize)              \n",
    "if Portfolio is not None:\n",
    "        df = pd.concat([Portfolio, df]).drop_duplicates(subset='CUSIP',keep='last')\n",
    "        pcusips = list(Portfolio['CUSIP'])\n",
    "        ebonds=len(pcusips)\n",
    "        df['In Portfolio'] = df['CUSIP'].isin(pcusips).astype(int)\n",
    "\n",
    "#preprocess data, set up dummy variables\n",
    "df = (df .assign(**{\"Seniority Level\" : lambda x: (x['Seniority Level'] == 'Subordinate').astype(int)}) #have to use this weird dict thing to get the space in the name\n",
    "         .assign(Rating = lambda x: (x['Rating'].str.contains(\"A\") == True).astype(int))\n",
    "         .assign(Invested = lambda x: 1))\n",
    "df = pd.concat([df,pd.get_dummies(df['Industry'], prefix='Sector')],axis=1)\n",
    "\n",
    "\n",
    "#get bond characteristics into a dict of dicts, nested dict\n",
    "Cusips = list(df['CUSIP'])\n",
    "#include Ask Yield To Worst to dict    #yields = dict(zip(Cusips, df['Ask Yield To Worst']))\n",
    "aspects = dict.fromkeys(['YTW','Rating','Maturity','Duration','Seniority Level','Invested','Ticker'], 0)\n",
    "for n,i in enumerate(aspects):\n",
    "    aspects[i] = dict(zip(Cusips, df[i]))\n",
    "    \n",
    "#use nested dicts to store bonds by sector\n",
    "sectors = dict.fromkeys(['CS','CD','CST','E','F','HC','I','IT','M','U'], 0)\n",
    "sector_names = ['Sector_Communication Services', 'Sector_Consumer Discretionary', 'Sector_Consumer_Staples', 'Sector_Energy', 'Sector_Financials', \\\n",
    "                'Sector_Health Care', 'Sector_Industrials', 'Sector_Information Technology', 'Sector_Materials', 'Sector_Utilities']\n",
    "for n,i in enumerate(sectors):\n",
    "    if sector_names[n] in df.columns:\n",
    "        sectors[i] = dict(zip(Cusips, df[sector_names[n]]))\n",
    "        \n",
    "\n",
    "#create new variables and set broad constraints liking rating, subordinate, and duration\n",
    "Symbols = list(df['Ticker'])\n",
    "Arated = math.floor(Arated*bonds)\n",
    "LadderYears = relativedelta(df['Maturity'].max(), df['Maturity'].min()).years\n",
    "Cusip_var = LpVariable.dicts(\"Cusips\", Cusips, upBound=1.0, lowBound=0, cat='Integer')\n",
    "prob += lpSum([aspects['YTW'][i] * Cusip_var[i] for i in Cusip_var])\n",
    "if Portfolio is not None:\n",
    "    EP = dict(zip(Cusips,df['In Portfolio']))\n",
    "    prob += lpSum([EP[i] * Cusip_var[i] for i in Cusip_var]) == ebonds\n",
    "prob += lpSum([aspects['Invested'][i] * Cusip_var[i] for i in Cusip_var]) == bonds\n",
    "prob += lpSum([aspects['Rating'][i] * Cusip_var[i] for i in Cusip_var]) >= Arated\n",
    "prob += lpSum([aspects['Duration'][i] * Cusip_var[i] for i in Cusip_var]) <= (duration * bonds)\n",
    "prob += lpSum([aspects['Seniority Level'][i] * Cusip_var[i] for i in Cusip_var]) <= Subs\n",
    "\n",
    "#set sector constraints\n",
    "# upper_bounds = {'CS': math.ceil(.2*bonds),\n",
    "#                 'CD': math.ceil(.2*bonds),\n",
    "#                 'CST': math.ceil(.2*bonds),\n",
    "#                 'E': 1,\n",
    "#                 'F': math.ceil(9/25*bonds),\n",
    "#                 'HC': math.ceil(.2*bonds),\n",
    "#                 'I': math.ceil(.2*bonds),\n",
    "#                 'IT': math.ceil(.2*bonds),\n",
    "#                 'M': 1,\n",
    "#                 'U': math.ceil(.15*bonds)}\n",
    "upper_bounds = {}\n",
    "for n,i in enumerate(sectors):\n",
    "    if i in sectorConstraints:\n",
    "        upper_bounds[i] = math.ceil(sectorConstraints[i]*bonds)\n",
    "    else:\n",
    "        upper_bounds[i] = 1\n",
    "for n in upper_bounds:\n",
    "    if sectors[n] != 0:\n",
    "        prob += lpSum([sectors[n][i] * Cusip_var[i] for i in Cusip_var]) <= upper_bounds[n]\n",
    "\n",
    "#impliment some maturity and ticker constraints\n",
    "g2 = datetime.now()\n",
    "ed = datetime.now().replace(month=12, day=31)\n",
    "if oneyearmature > 0:\n",
    "    prob += oneyearmature == lpSum([Cusip_var[i] for i in Cusip_var if g2 <= aspects['Maturity'][i] <= g2 + relativedelta(years=1)])\n",
    "for s in Symbols:\n",
    "    prob += 1 >= lpSum([Cusip_var[i] for i in Cusip_var if aspects['Ticker'][i] == s])\n",
    "prob += 1 >= lpSum([Cusip_var[i] for i in Cusip_var if aspects['Ticker'][i] == 'CVS' or aspects['Ticker'][i] =='WBA'])\n",
    "\n",
    "#set bond ladder constraints, I don't quite get what they are doing though\n",
    "if Portfolio is None:\n",
    "    for a in range(LadderStart, LadderLength):\n",
    "        g = g2 + relativedelta(years=a)\n",
    "        g1 = g2 + relativedelta(years=a + 1)\n",
    "        rb = ed + relativedelta(years=a)\n",
    "        ry = ed + relativedelta(years=a + 1)\n",
    "        prob += 2 <= lpSum([Cusip_var[i] for i in Cusip_var if g <= aspects['Maturity'][i] <= g1])\n",
    "        prob += MaxPerYear >= lpSum([Cusip_var[i] for i in Cusip_var if g <= aspects['Maturity'][i] <= g1])\n",
    "        prob += 2 <= lpSum([Cusip_var[i] for i in Cusip_var if rb <= aspects['Maturity'][i] <= ry])\n",
    "        \n",
    "#check if this is a redundant constraint or if it can be written more simply\n",
    "for a in range(LadderStart, LadderYears + 1):\n",
    "    rb = ed + relativedelta(years=a)\n",
    "    ry = ed + relativedelta(years=a + 1)\n",
    "    prob += MaxPerYear >= lpSum([Cusip_var[i] for i in Cusip_var if rb <=  aspects['Maturity'][i] <= ry])\n",
    "    \n",
    "prob += 0 == lpSum([Cusip_var[i] for i in Cusip_var if  aspects['Maturity'][i] >= g2 + relativedelta(years=maxladderlength)])\n",
    "prob.solve()\n",
    "portfolio = []\n",
    "#had to add additional statement because at the end of prob.variables I got a ___dummy which is of nonetype\n",
    "for v in prob.variables():\n",
    "    if (type(v.varValue)==int) | (type(v.varValue)==float):\n",
    "        if v.varValue > 0:\n",
    "            portfolio.append(v.name[-9:])\n",
    "\n",
    "OptimalPortfolio = df[df['CUSIP'].isin(portfolio)][aspects.keys()]"
   ]
  },
  {
   "cell_type": "code",
   "execution_count": null,
   "metadata": {
    "colab": {
     "base_uri": "https://localhost:8080/",
     "height": 833
    },
    "id": "8uNaqYXfg8w3",
    "outputId": "08b25355-92b7-4b61-c282-3f295b6da74d"
   },
   "outputs": [],
   "source": [
    "print(np.average(OptimalPortfolio['YTW'])*100)"
   ]
  },
  {
   "cell_type": "code",
   "execution_count": null,
   "metadata": {
    "id": "KCdWAddPhVrk"
   },
   "outputs": [],
   "source": [
    "print(OptimalPortfolio)"
   ]
  }
 ],
 "metadata": {
  "colab": {
   "authorship_tag": "ABX9TyMbIUgXkORrC7yjW+WAZllJ",
   "include_colab_link": true,
   "name": "Untitled3.ipynb",
   "provenance": []
  },
  "kernelspec": {
   "display_name": "Python 3 (ipykernel)",
   "language": "python",
   "name": "python3"
  },
  "language_info": {
   "codemirror_mode": {
    "name": "ipython",
    "version": 3
   },
   "file_extension": ".py",
   "mimetype": "text/x-python",
   "name": "python",
   "nbconvert_exporter": "python",
   "pygments_lexer": "ipython3",
   "version": "3.8.3"
  }
 },
 "nbformat": 4,
 "nbformat_minor": 1
}
