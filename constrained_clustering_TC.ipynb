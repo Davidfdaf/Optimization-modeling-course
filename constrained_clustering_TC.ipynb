{
 "cells": [
  {
   "cell_type": "code",
   "execution_count": 4,
   "id": "2d326c14",
   "metadata": {},
   "outputs": [],
   "source": [
    "class constrained_clusterings_new:\n",
    "    # Initialize with  AAA = constrained_clusterings_new(correlation_matrix)\n",
    "    # Call with        optimal_num_clusters = AAA.calcthresholds(self,corr_threshold,pct_threshold)\n",
    "    \n",
    "    # Optimal number of clusters calculated via:\n",
    "    # Minimum number of clusters s.t.\n",
    "    #   (Percent of stocks in clusters with internal correlation less than corr_threshold) is less than pct_threshold\n",
    "    \n",
    "    def __init__(self,corr):\n",
    "        self.corr = corr                     # correlation matrix\n",
    "        self.sz = corr.shape[0]              # size\n",
    "        \n",
    "        self.__precompute()\n",
    "        \n",
    "        self.names = pd.DataFrame(corr.columns.values) # stock names\n",
    "        \n",
    "    def __precompute(self):\n",
    "        corr_np = np.array(corr)\n",
    "        \n",
    "        self.clusters = np.zeros((sz,sz))    # cluster assignments of stocks\n",
    "        self.numstocks = np.zeros((sz,sz))   # stocks per cluster\n",
    "        self.internals = np.zeros((sz,sz))   # internal correlations of clusters\n",
    "        \n",
    "        for i in range(sz):\n",
    "            clusters_tmp = AgglomerativeClustering(n_clusters=i+1, affinity='euclidean', linkage='ward').fit_predict(corr_np)\n",
    "            self.clusters[i,:] = clusters_tmp\n",
    "            numstocks_tmp = np.zeros(sz)\n",
    "            internals_tmp = np.zeros(sz)\n",
    "            for j in range(i+1):\n",
    "                numstocks_tmp[j] = np.sum(clusters_tmp==j)\n",
    "                tmpcorr = corr_np[clusters_tmp==j]\n",
    "                tmpcorr = tmpcorr[:,clusters_tmp==j]\n",
    "                internals_tmp[j] = np.mean(tmpcorr)\n",
    "            self.numstocks[i,:] = numstocks_tmp\n",
    "            self.internals[i,:] = internals_tmp\n",
    "            \n",
    "    def calcthresholds(self,corr_threshold,pct_threshold):\n",
    "        tmp = np.sum((internals<corr_threshold)*(numstocks/sz),axis=1)<pct_threshold\n",
    "        ret = (np.arange(0,sz)+1)[tmp]\n",
    "        print(\"Valid numbers of clusters:\")\n",
    "        print(ret)\n",
    "        return ret[0]"
   ]
  },
  {
   "cell_type": "markdown",
   "id": "9754e689",
   "metadata": {},
   "source": [
    "## Get Universe - Current S&P 500 stocks that exhisted in 2002"
   ]
  },
  {
   "cell_type": "code",
   "execution_count": 5,
   "id": "2137c4d6",
   "metadata": {},
   "outputs": [],
   "source": [
    "import os\n",
    "\n",
    "if not os.path.exists('SP_Close.pkl'):\n",
    "    resp = requests.get('http://en.wikipedia.org/wiki/List_of_S%26P_500_companies')\n",
    "    soup = bs.BeautifulSoup(resp.text, 'lxml')\n",
    "    table = soup.find('table', {'class': 'wikitable sortable'})\n",
    "    tickers = []\n",
    "    for row in table.findAll('tr')[1:]:\n",
    "        ticker = row.findAll('td')[0].text\n",
    "        tickers.append(ticker)\n",
    "\n",
    "    tickers = [s.replace('\\n', '') for s in tickers]\n",
    "    start = datetime(2000,1,1)\n",
    "    end = datetime(2022,1,1)\n",
    "    data = yf.download(tickers, start=start, end=end)"
   ]
  },
  {
   "cell_type": "code",
   "execution_count": 6,
   "id": "0c01d086",
   "metadata": {
    "scrolled": true,
    "tags": []
   },
   "outputs": [],
   "source": [
    "if not os.path.exists('SP_Close.pkl'):\n",
    "    data.index = pd.to_datetime(data.index)\n",
    "    data = data.sort_index()\n",
    "    SP_Close = data['Adj Close']\n",
    "    SP_Close=SP_Close.dropna(axis=0, how='all')\n",
    "    SP_Close=SP_Close.dropna(axis=1)\n",
    "else:\n",
    "    SP_Close = pd.read_pickle('SP_Close.pkl')\n",
    "\n",
    "pd.set_option('display.max_rows', 20 )\n",
    "SP_Close"
   ]
  },
  {
   "cell_type": "code",
   "execution_count": 7,
   "id": "6819f7b5",
   "metadata": {},
   "outputs": [],
   "source": [
    "if not os.path.exists('SP_Close.pkl'):\n",
    "    SP_Close.to_pickle('SP_Close.pkl')"
   ]
  },
  {
   "cell_type": "code",
   "execution_count": 8,
   "id": "62cb3198",
   "metadata": {},
   "outputs": [
    {
     "name": "stdout",
     "output_type": "stream",
     "text": [
      "A       float64\n",
      "AAPL    float64\n",
      "ABC     float64\n",
      "ABMD    float64\n",
      "ABT     float64\n",
      "         ...   \n",
      "XOM     float64\n",
      "XRAY    float64\n",
      "YUM     float64\n",
      "ZBRA    float64\n",
      "ZION    float64\n",
      "Length: 367, dtype: object\n",
      "(5536, 367)\n"
     ]
    }
   ],
   "source": [
    "print(SP_Close.dtypes)\n",
    "print(SP_Close.shape)"
   ]
  }
 ],
 "metadata": {
  "kernelspec": {
   "display_name": "Python 3 (ipykernel)",
   "language": "python",
   "name": "python3"
  },
  "language_info": {
   "codemirror_mode": {
    "name": "ipython",
    "version": 3
   },
   "file_extension": ".py",
   "mimetype": "text/x-python",
   "name": "python",
   "nbconvert_exporter": "python",
   "pygments_lexer": "ipython3",
   "version": "3.8.3"
  }
 },
 "nbformat": 4,
 "nbformat_minor": 5
}
