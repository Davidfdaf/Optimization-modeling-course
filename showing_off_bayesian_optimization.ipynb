{
  "nbformat": 4,
  "nbformat_minor": 0,
  "metadata": {
    "colab": {
      "name": "showing off bayesian optimization.ipynb",
      "provenance": [],
      "collapsed_sections": [],
      "authorship_tag": "ABX9TyPaRpnpZLg9+ONienf771HV",
      "include_colab_link": true
    },
    "kernelspec": {
      "name": "python3",
      "display_name": "Python 3"
    },
    "language_info": {
      "name": "python"
    },
    "accelerator": "TPU"
  },
  "cells": [
    {
      "cell_type": "markdown",
      "metadata": {
        "id": "view-in-github",
        "colab_type": "text"
      },
      "source": [
        "<a href=\"https://colab.research.google.com/github/Davidfdaf/Optimization-modeling-course/blob/main/showing_off_bayesian_optimization.ipynb\" target=\"_parent\"><img src=\"https://colab.research.google.com/assets/colab-badge.svg\" alt=\"Open In Colab\"/></a>"
      ]
    },
    {
      "cell_type": "code",
      "execution_count": 1,
      "metadata": {
        "colab": {
          "base_uri": "https://localhost:8080/"
        },
        "id": "da-my_YhKujJ",
        "outputId": "b6f979d5-b176-4d96-b5c5-818fdcc74f3c"
      },
      "outputs": [
        {
          "output_type": "stream",
          "name": "stdout",
          "text": [
            "Collecting qpsolvers\n",
            "  Downloading qpsolvers-1.8.0-py3-none-any.whl (36 kB)\n",
            "Requirement already satisfied: scipy>=1.2.0 in /usr/local/lib/python3.7/dist-packages (from qpsolvers) (1.4.1)\n",
            "Collecting quadprog>=0.1.8\n",
            "  Downloading quadprog-0.1.11.tar.gz (121 kB)\n",
            "\u001b[K     |████████████████████████████████| 121 kB 8.3 MB/s \n",
            "\u001b[?25h  Installing build dependencies ... \u001b[?25l\u001b[?25hdone\n",
            "  Getting requirements to build wheel ... \u001b[?25l\u001b[?25hdone\n",
            "    Preparing wheel metadata ... \u001b[?25l\u001b[?25hdone\n",
            "Requirement already satisfied: numpy in /usr/local/lib/python3.7/dist-packages (from quadprog>=0.1.8->qpsolvers) (1.19.5)\n",
            "Building wheels for collected packages: quadprog\n",
            "  Building wheel for quadprog (PEP 517) ... \u001b[?25l\u001b[?25hdone\n",
            "  Created wheel for quadprog: filename=quadprog-0.1.11-cp37-cp37m-linux_x86_64.whl size=290749 sha256=8585367118a297462e3dec2854df0e90d6491f4b768a41a4eff4e4e61e0cd5a2\n",
            "  Stored in directory: /root/.cache/pip/wheels/4a/4e/d7/41034ea11aeef1266df3cae546116cb6094e955c41ae3e2589\n",
            "Successfully built quadprog\n",
            "Installing collected packages: quadprog, qpsolvers\n",
            "Successfully installed qpsolvers-1.8.0 quadprog-0.1.11\n"
          ]
        }
      ],
      "source": [
        "pip install qpsolvers"
      ]
    },
    {
      "cell_type": "code",
      "source": [
        "pip install yfinance"
      ],
      "metadata": {
        "colab": {
          "base_uri": "https://localhost:8080/"
        },
        "id": "s7bb3WvBrEhF",
        "outputId": "d99f939f-51a1-420a-f1c1-19933b981ed3"
      },
      "execution_count": 2,
      "outputs": [
        {
          "output_type": "stream",
          "name": "stdout",
          "text": [
            "Collecting yfinance\n",
            "  Downloading yfinance-0.1.70-py2.py3-none-any.whl (26 kB)\n",
            "Collecting requests>=2.26\n",
            "  Downloading requests-2.27.1-py2.py3-none-any.whl (63 kB)\n",
            "\u001b[K     |████████████████████████████████| 63 kB 1.1 MB/s \n",
            "\u001b[?25hRequirement already satisfied: pandas>=0.24.0 in /usr/local/lib/python3.7/dist-packages (from yfinance) (1.3.5)\n",
            "Requirement already satisfied: numpy>=1.15 in /usr/local/lib/python3.7/dist-packages (from yfinance) (1.19.5)\n",
            "Requirement already satisfied: multitasking>=0.0.7 in /usr/local/lib/python3.7/dist-packages (from yfinance) (0.0.10)\n",
            "Collecting lxml>=4.5.1\n",
            "  Downloading lxml-4.7.1-cp37-cp37m-manylinux_2_17_x86_64.manylinux2014_x86_64.manylinux_2_24_x86_64.whl (6.4 MB)\n",
            "\u001b[K     |████████████████████████████████| 6.4 MB 11.0 MB/s \n",
            "\u001b[?25hRequirement already satisfied: python-dateutil>=2.7.3 in /usr/local/lib/python3.7/dist-packages (from pandas>=0.24.0->yfinance) (2.8.2)\n",
            "Requirement already satisfied: pytz>=2017.3 in /usr/local/lib/python3.7/dist-packages (from pandas>=0.24.0->yfinance) (2018.9)\n",
            "Requirement already satisfied: six>=1.5 in /usr/local/lib/python3.7/dist-packages (from python-dateutil>=2.7.3->pandas>=0.24.0->yfinance) (1.15.0)\n",
            "Requirement already satisfied: idna<4,>=2.5 in /usr/local/lib/python3.7/dist-packages (from requests>=2.26->yfinance) (2.10)\n",
            "Requirement already satisfied: urllib3<1.27,>=1.21.1 in /usr/local/lib/python3.7/dist-packages (from requests>=2.26->yfinance) (1.24.3)\n",
            "Requirement already satisfied: charset-normalizer~=2.0.0 in /usr/local/lib/python3.7/dist-packages (from requests>=2.26->yfinance) (2.0.11)\n",
            "Requirement already satisfied: certifi>=2017.4.17 in /usr/local/lib/python3.7/dist-packages (from requests>=2.26->yfinance) (2021.10.8)\n",
            "Installing collected packages: requests, lxml, yfinance\n",
            "  Attempting uninstall: requests\n",
            "    Found existing installation: requests 2.23.0\n",
            "    Uninstalling requests-2.23.0:\n",
            "      Successfully uninstalled requests-2.23.0\n",
            "  Attempting uninstall: lxml\n",
            "    Found existing installation: lxml 4.2.6\n",
            "    Uninstalling lxml-4.2.6:\n",
            "      Successfully uninstalled lxml-4.2.6\n",
            "\u001b[31mERROR: pip's dependency resolver does not currently take into account all the packages that are installed. This behaviour is the source of the following dependency conflicts.\n",
            "google-colab 1.0.0 requires requests~=2.23.0, but you have requests 2.27.1 which is incompatible.\n",
            "datascience 0.10.6 requires folium==0.2.1, but you have folium 0.8.3 which is incompatible.\u001b[0m\n",
            "Successfully installed lxml-4.7.1 requests-2.27.1 yfinance-0.1.70\n"
          ]
        }
      ]
    },
    {
      "cell_type": "code",
      "source": [
        "from datetime import datetime\n",
        "import pandas as pd\n",
        "import numpy as np\n",
        "from pandas_datareader import data, wb\n",
        "import yfinance as yfin\n",
        "yfin.pdr_override()\n",
        "import qpsolvers\n",
        "from sklearn.gaussian_process import GaussianProcessRegressor\n",
        "from numpy.random import uniform\n",
        "from scipy.stats import norm\n",
        "import time\n",
        "from pandas.core.common import flatten"
      ],
      "metadata": {
        "id": "NYJjBWrhNMCD"
      },
      "execution_count": 3,
      "outputs": []
    },
    {
      "cell_type": "markdown",
      "source": [
        "#Importing backtest and optimization functions"
      ],
      "metadata": {
        "id": "haAuEWogmeG4"
      }
    },
    {
      "cell_type": "code",
      "source": [
        "def import_data(tickers, start, end, give = \"R\", interval = \"W\"):#read in stock data  \n",
        "    \"\"\"\n",
        "    tickers: tickers to read \n",
        "    start, end: dates in datetime.datetime(2015,12,1) format\n",
        "    give: return prices or returns \n",
        "    timeframe: resample dataframe to be D:daily data, W:Weekly Data, M:Monthly data, A:Annual data\n",
        "    \"\"\"\n",
        "    \n",
        "    stocks = pd.DataFrame()\n",
        "    stocks[tickers] = data.get_data_yahoo(tickers, start, end)['Adj Close']\n",
        "        \n",
        "    if(give == \"R\"):\n",
        "        if (interval==\"D\"):\n",
        "            return stocks.pct_change().dropna()\n",
        "        else:\n",
        "            return stocks.pct_change().dropna().resample(interval).apply(lambda x: ((x + 1).cumprod()-1).last(\"D\"))\n",
        "        \n",
        "    if(give == \"P\"):\n",
        "        return stocks\n",
        "    \n",
        "#importing financial data \n",
        "#commodity_futures = ['GC=F', 'SI=F', 'CL=F']\n",
        "#cryptocurrencies = ['BTC-USD', 'ETH-USD', 'XRP-USD']\n",
        "#currencies = ['EURUSD=X', 'JPY=X', 'GBPUSD=X']\n",
        "#mutual_funds = ['PRLAX', 'QASGX', 'HISFX']\n",
        "#Interest rates = ['^TNX', '^IRX', '^TYX']\n",
        "\n",
        "\n",
        "\n",
        "\n",
        "def mean_var_opt(posLB, posUB, t, tickers, increments_for_graph, Cov, muf, mean_vect):\n",
        "    \"\"\"\n",
        "    posLB,posUB: upper and lower bounds for individual positions\n",
        "    t: number to multiply expected returns by to make them yearly\n",
        "    tickers: list of column names\n",
        "    increments_for_graph: decreasing this number increases the number of portfolios calculated\n",
        "    Cov: covariance of returns\n",
        "    muf: should be a single value\n",
        "    mean_vect: should be mean of dataframe\n",
        "\n",
        "    \"\"\"\n",
        "    Cov = 2 * np.array(Cov)\n",
        "    mean_vect = mean_vect * t\n",
        "    muf  = muf * t\n",
        "    m = len(tickers)\n",
        "\n",
        "    from scipy.optimize import linprog\n",
        "    #set equality constraints. I want my positions to sum to 1\n",
        "    A_eq = np.array((1,)*m).reshape(1,-1)\n",
        "    b_eq = [1]\n",
        "\n",
        "    # set bounds on leverage. We can short but we can not go long\n",
        "    bounds = np.vstack([(posLB,)*m, (posUB,)*m]).T\n",
        "\n",
        "    #find min and max return\n",
        "    min_rtn = mean_vect @ linprog(c=mean_vect, A_eq = A_eq, b_eq = b_eq, bounds=bounds).x\n",
        "    max_rtn = mean_vect @ linprog(c=-mean_vect, A_eq = A_eq, b_eq = b_eq, bounds=bounds).x\n",
        "\n",
        "    from qpsolvers import solve_qp\n",
        "    muP = np.arange(min_rtn * .995,max_rtn * .995, increments_for_graph)\n",
        "    sdP = np.zeros(len(muP))\n",
        "    weights = np.zeros([len(muP),m])\n",
        "\n",
        "    q_vec = np.zeros(m).reshape(-1,)\n",
        "    G = np.zeros([m,m])\n",
        "    h = np.zeros(m)\n",
        "    A = np.vstack([np.array((1,)*m).reshape(1,-1),mean_vect])\n",
        "\n",
        "    #calculate each optimized portfolio for each mean\n",
        "    for i in range(len(muP)):\n",
        "        b = np.array([1,muP[i]])\n",
        "        weights[i] = solve_qp(P=Cov, q = q_vec, G=G, h=h, A=A, b=b, lb = bounds[:,0], ub = bounds[:,1])\n",
        "        sdP[i] = np.sqrt(weights[i] @ (Cov/2) @ weights[i]) * np.sqrt(t)\n",
        "    \n",
        "    portfolios = pd.DataFrame({'Returns': muP, 'Volatility': sdP,})\n",
        "    for counter, symbol in enumerate(tickers):\n",
        "        portfolios[symbol+' weight'] = [w[counter] for w in weights]\n",
        "    \n",
        "    portfolios['Sharpe'] = (portfolios['Returns']-muf) / portfolios['Volatility'] #note using monthly returns and vol\n",
        "\n",
        "    tangent = portfolios.iloc[[portfolios.Sharpe.argmax()]]\n",
        "    min_var = portfolios.iloc[[portfolios.Volatility.argmin()]]\n",
        "    efficient_portfolios = portfolios[portfolios['Returns'] >= min_var.Returns.values[0]-.02] #the .02 is arbitrary to see a bit below the min var port too\n",
        "\n",
        "    return tangent, min_var, efficient_portfolios"
      ],
      "metadata": {
        "id": "yJJ0iylCM-jq"
      },
      "execution_count": 28,
      "outputs": []
    },
    {
      "cell_type": "markdown",
      "source": [
        "###Bayesian optimization"
      ],
      "metadata": {
        "id": "ZNbwzWw2nbDM"
      }
    },
    {
      "cell_type": "code",
      "source": [
        "# probability of improvement acquisition function\n",
        "def acquisition(X, Xsamples, model):\n",
        "    # calculate the best surrogate score found so far\n",
        "    yhat = model.predict(X)\n",
        "    best = max(yhat)\n",
        "    # calculate mean and stdev via surrogate function\n",
        "    mu, std = model.predict(Xsamples, return_std=True)\n",
        "    mu = mu.reshape(-1,)\n",
        "    std = std.reshape(-1,)\n",
        "    # calculate the probability of improvement\n",
        "    probs = norm.cdf((mu - best) / (std+1E-9))\n",
        "    return probs\n",
        "\n",
        "# optimize the acquisition function\n",
        "def opt_acquisition(X, y, model,search_samp):\n",
        "    # random search, generate random samples\n",
        "    Xsamples = constrained_samp(search_samp)\n",
        "    # calculate the acquisition function for each sample\n",
        "    scores = acquisition(X, Xsamples, model)\n",
        "    # locate the index of the largest scores\n",
        "    ix = np.argmax(scores)\n",
        "    return Xsamples[ix]\n",
        "\n",
        "def bayes_opt(starting_data = 50, search_samp = 100, optimization_steps = 50):\n",
        "    \"\"\"\n",
        "    startig data: number of actual points to start with\n",
        "    search samp: number of points to sample at each optimization step\n",
        "    optimization_steps: number of updates\n",
        "    \"\"\"\n",
        "    \n",
        "    t0 = time.time()\n",
        "\n",
        "    #samples\n",
        "    X = constrained_samp(starting_data)\n",
        "    ys = np.asarray([func_approx(x) for x in X]).reshape(-1,1) ####\n",
        "    # define the model\n",
        "    model = GaussianProcessRegressor()\n",
        "    model.fit(X, ys)\n",
        "\n",
        "    # perform the optimization process\n",
        "    error=[]\n",
        "    for i in range(optimization_steps):\n",
        "        # select the next point to sample\n",
        "        point = opt_acquisition(X, ys, model, search_samp)  #####\n",
        "        # sample the point\n",
        "        actual = func_approx(point) ####\n",
        "        # summarize the finding\n",
        "        est = model.predict(point.reshape(1,-1))\n",
        "        wrongness=abs(actual-est)/(est+.0001)\n",
        "        error.append(wrongness.item())\n",
        "        # add the data to the dataset\n",
        "        X = np.vstack((X, point))\n",
        "        ys = np.vstack((ys, [[actual]]))\n",
        "        # update the model\n",
        "        model.fit(X, ys)\n",
        "    \n",
        "    # best result\n",
        "    X = np.round(X,2)\n",
        "    ix = np.argmax(ys)\n",
        "    print('Best Result: \\nWeights=%s, \\n function max=%.6f' % (tuple(X[ix]), ys[ix]))\n",
        "    print('\\nMean Error=%.3f' % (np.mean(error)))\n",
        "    t1 = time.time()\n",
        "    print(\"time\",t1-t0)\n",
        "    return(X,ys,ix,error)"
      ],
      "metadata": {
        "id": "TTzXy_SjngBU"
      },
      "execution_count": 29,
      "outputs": []
    },
    {
      "cell_type": "markdown",
      "source": [
        "###Backtesting function"
      ],
      "metadata": {
        "id": "VzDrnBQGo2gs"
      }
    },
    {
      "cell_type": "code",
      "source": [
        "def backtest(weights, col, dataf, days_between_rebalance, rebalance_func, show_weights=False, wealth = 1, RebalanceOffset=0, give='R',formation = 0): #cols allows users to backtest subsets of dataframe\n",
        "    \"\"\"\n",
        "    weights: tells the function the number of assets. sets the starting weights and is the weights for constant rebalancing\n",
        "    wealth: sets starting value\n",
        "    RebalanceOffset: to offset day of rebalances by these values to provide information about rebalance timing luck\n",
        "    give: return returns or prices\n",
        "    formation: number of days covariance matrix is formed over\n",
        "    \n",
        "    \"\"\"\n",
        "    colin=[0]*len(weights)\n",
        "    port=[0]*len(weights)\n",
        "    worth=[wealth]\n",
        "\n",
        "    for n in range(len(weights)):\n",
        "        colin[n] = dataf.columns.get_loc(col[n])\n",
        "        port[n]=wealth*weights[n]\n",
        "\n",
        "    for n in range (formation,len(dataf)):\n",
        "        port = np.multiply(port, np.array((1+dataf.iloc[n,colin])))\n",
        "\n",
        "        end_of_day = sum(port)\n",
        "        worth.append(end_of_day)\n",
        "        \n",
        "        if ((n + RebalanceOffset)% days_between_rebalance==0):        #rebalance\n",
        "            port=rebalance_func(dataf, n, formation, port, weights, sum(port))\n",
        "            if show_weights == True:\n",
        "                print(np.round(np.array(port/sum(port)),2))\n",
        "                \n",
        "    if (give=='R'):            \n",
        "        p_rtn = pd.DataFrame(worth).pct_change()[1:].set_index(dataf.index[formation:])\n",
        "        return(p_rtn)\n",
        "    if (give=='P'):\n",
        "        return(pd.DataFrame(worth[1:]).set_index(dataf.index[formation:]))\n",
        "    \n",
        "def constant_weight_rebalance(stocks, n, formation_period, port, weights, total):  \n",
        "    update = np.subtract(np.array(weights), np.array(port/total))/1\n",
        "    new_port = np.add(np.array(port/total),update)    #update portfolio weights\n",
        "    #print(np.round(new_port,2),n)                       #print weights\n",
        "    return total * np.array(new_port)\n",
        "\n",
        "def getIVP(cov,**kargs):\n",
        "    # Compute the inverse-variance portfolio\n",
        "    ivp=1./np.diag(cov)\n",
        "    ivp/=ivp.sum()\n",
        "    return ivp\n",
        "\n",
        "def ivp_rebalance(stocks, n, formation_period, port, weights, total):\n",
        "    cov = stocks[n-formation_period : n - 1].cov() \n",
        "    ivp = list(flatten(getIVP(cov).reshape(-1,1)))\n",
        "    update = np.subtract(np.array(ivp), np.array(port/total))/1\n",
        "    #print(abs(update).sum()/2)                       #print turnover\n",
        "    new_port = np.add(np.array(port/total),update)    #update portfolio weights\n",
        "    return total * np.array(ivp)"
      ],
      "metadata": {
        "id": "bWEUOAv6o4bB"
      },
      "execution_count": 30,
      "outputs": []
    },
    {
      "cell_type": "code",
      "source": [
        "#import data\n",
        "start = datetime(2002,1,1)\n",
        "end = datetime(2012,1,16)\n",
        "assets = ['TLT','SPY']\n",
        "df = import_data(assets,start,end, give =\"R\",interval = \"D\")"
      ],
      "metadata": {
        "colab": {
          "base_uri": "https://localhost:8080/"
        },
        "id": "Qq0Z06ojMw8G",
        "outputId": "02393959-c7a0-4d4c-d6d8-25274c5bd3ee"
      },
      "execution_count": 67,
      "outputs": [
        {
          "output_type": "stream",
          "name": "stdout",
          "text": [
            "[*********************100%***********************]  2 of 2 completed\n"
          ]
        }
      ]
    },
    {
      "cell_type": "code",
      "source": [
        "df.head()"
      ],
      "metadata": {
        "colab": {
          "base_uri": "https://localhost:8080/",
          "height": 235
        },
        "id": "3mliaTGWsK1A",
        "outputId": "cc980d35-3149-47a9-8499-5db639fd2cbe"
      },
      "execution_count": 68,
      "outputs": [
        {
          "output_type": "execute_result",
          "data": {
            "text/html": [
              "\n",
              "  <div id=\"df-1cca54a0-2f0c-48f5-b910-3a3203074dda\">\n",
              "    <div class=\"colab-df-container\">\n",
              "      <div>\n",
              "<style scoped>\n",
              "    .dataframe tbody tr th:only-of-type {\n",
              "        vertical-align: middle;\n",
              "    }\n",
              "\n",
              "    .dataframe tbody tr th {\n",
              "        vertical-align: top;\n",
              "    }\n",
              "\n",
              "    .dataframe thead th {\n",
              "        text-align: right;\n",
              "    }\n",
              "</style>\n",
              "<table border=\"1\" class=\"dataframe\">\n",
              "  <thead>\n",
              "    <tr style=\"text-align: right;\">\n",
              "      <th></th>\n",
              "      <th>TLT</th>\n",
              "      <th>SPY</th>\n",
              "    </tr>\n",
              "    <tr>\n",
              "      <th>Date</th>\n",
              "      <th></th>\n",
              "      <th></th>\n",
              "    </tr>\n",
              "  </thead>\n",
              "  <tbody>\n",
              "    <tr>\n",
              "      <th>2002-07-31</th>\n",
              "      <td>0.002419</td>\n",
              "      <td>0.012389</td>\n",
              "    </tr>\n",
              "    <tr>\n",
              "      <th>2002-08-01</th>\n",
              "      <td>-0.026108</td>\n",
              "      <td>0.005696</td>\n",
              "    </tr>\n",
              "    <tr>\n",
              "      <th>2002-08-02</th>\n",
              "      <td>-0.022415</td>\n",
              "      <td>0.010241</td>\n",
              "    </tr>\n",
              "    <tr>\n",
              "      <th>2002-08-05</th>\n",
              "      <td>-0.034797</td>\n",
              "      <td>0.004412</td>\n",
              "    </tr>\n",
              "    <tr>\n",
              "      <th>2002-08-06</th>\n",
              "      <td>0.033664</td>\n",
              "      <td>-0.008550</td>\n",
              "    </tr>\n",
              "  </tbody>\n",
              "</table>\n",
              "</div>\n",
              "      <button class=\"colab-df-convert\" onclick=\"convertToInteractive('df-1cca54a0-2f0c-48f5-b910-3a3203074dda')\"\n",
              "              title=\"Convert this dataframe to an interactive table.\"\n",
              "              style=\"display:none;\">\n",
              "        \n",
              "  <svg xmlns=\"http://www.w3.org/2000/svg\" height=\"24px\"viewBox=\"0 0 24 24\"\n",
              "       width=\"24px\">\n",
              "    <path d=\"M0 0h24v24H0V0z\" fill=\"none\"/>\n",
              "    <path d=\"M18.56 5.44l.94 2.06.94-2.06 2.06-.94-2.06-.94-.94-2.06-.94 2.06-2.06.94zm-11 1L8.5 8.5l.94-2.06 2.06-.94-2.06-.94L8.5 2.5l-.94 2.06-2.06.94zm10 10l.94 2.06.94-2.06 2.06-.94-2.06-.94-.94-2.06-.94 2.06-2.06.94z\"/><path d=\"M17.41 7.96l-1.37-1.37c-.4-.4-.92-.59-1.43-.59-.52 0-1.04.2-1.43.59L10.3 9.45l-7.72 7.72c-.78.78-.78 2.05 0 2.83L4 21.41c.39.39.9.59 1.41.59.51 0 1.02-.2 1.41-.59l7.78-7.78 2.81-2.81c.8-.78.8-2.07 0-2.86zM5.41 20L4 18.59l7.72-7.72 1.47 1.35L5.41 20z\"/>\n",
              "  </svg>\n",
              "      </button>\n",
              "      \n",
              "  <style>\n",
              "    .colab-df-container {\n",
              "      display:flex;\n",
              "      flex-wrap:wrap;\n",
              "      gap: 12px;\n",
              "    }\n",
              "\n",
              "    .colab-df-convert {\n",
              "      background-color: #E8F0FE;\n",
              "      border: none;\n",
              "      border-radius: 50%;\n",
              "      cursor: pointer;\n",
              "      display: none;\n",
              "      fill: #1967D2;\n",
              "      height: 32px;\n",
              "      padding: 0 0 0 0;\n",
              "      width: 32px;\n",
              "    }\n",
              "\n",
              "    .colab-df-convert:hover {\n",
              "      background-color: #E2EBFA;\n",
              "      box-shadow: 0px 1px 2px rgba(60, 64, 67, 0.3), 0px 1px 3px 1px rgba(60, 64, 67, 0.15);\n",
              "      fill: #174EA6;\n",
              "    }\n",
              "\n",
              "    [theme=dark] .colab-df-convert {\n",
              "      background-color: #3B4455;\n",
              "      fill: #D2E3FC;\n",
              "    }\n",
              "\n",
              "    [theme=dark] .colab-df-convert:hover {\n",
              "      background-color: #434B5C;\n",
              "      box-shadow: 0px 1px 3px 1px rgba(0, 0, 0, 0.15);\n",
              "      filter: drop-shadow(0px 1px 2px rgba(0, 0, 0, 0.3));\n",
              "      fill: #FFFFFF;\n",
              "    }\n",
              "  </style>\n",
              "\n",
              "      <script>\n",
              "        const buttonEl =\n",
              "          document.querySelector('#df-1cca54a0-2f0c-48f5-b910-3a3203074dda button.colab-df-convert');\n",
              "        buttonEl.style.display =\n",
              "          google.colab.kernel.accessAllowed ? 'block' : 'none';\n",
              "\n",
              "        async function convertToInteractive(key) {\n",
              "          const element = document.querySelector('#df-1cca54a0-2f0c-48f5-b910-3a3203074dda');\n",
              "          const dataTable =\n",
              "            await google.colab.kernel.invokeFunction('convertToInteractive',\n",
              "                                                     [key], {});\n",
              "          if (!dataTable) return;\n",
              "\n",
              "          const docLinkHtml = 'Like what you see? Visit the ' +\n",
              "            '<a target=\"_blank\" href=https://colab.research.google.com/notebooks/data_table.ipynb>data table notebook</a>'\n",
              "            + ' to learn more about interactive tables.';\n",
              "          element.innerHTML = '';\n",
              "          dataTable['output_type'] = 'display_data';\n",
              "          await google.colab.output.renderOutput(dataTable, element);\n",
              "          const docLink = document.createElement('div');\n",
              "          docLink.innerHTML = docLinkHtml;\n",
              "          element.appendChild(docLink);\n",
              "        }\n",
              "      </script>\n",
              "    </div>\n",
              "  </div>\n",
              "  "
            ],
            "text/plain": [
              "                 TLT       SPY\n",
              "Date                          \n",
              "2002-07-31  0.002419  0.012389\n",
              "2002-08-01 -0.026108  0.005696\n",
              "2002-08-02 -0.022415  0.010241\n",
              "2002-08-05 -0.034797  0.004412\n",
              "2002-08-06  0.033664 -0.008550"
            ]
          },
          "metadata": {},
          "execution_count": 68
        }
      ]
    },
    {
      "cell_type": "code",
      "source": [
        "#form mean variance optimized ports and return tangent port and minimum variance ports\n",
        "tangent, min_var, efficient = mean_var_opt(posLB = 0, posUB = 1, t=252, tickers=assets, increments_for_graph=.001, \\\n",
        "             Cov = np.array(df.cov()), muf = 0, mean_vect = df.mean())"
      ],
      "metadata": {
        "colab": {
          "base_uri": "https://localhost:8080/"
        },
        "id": "ZUTAGKsfqVBV",
        "outputId": "c9cdd71d-d349-4cae-a6b7-7f2ed9a855f3"
      },
      "execution_count": 69,
      "outputs": [
        {
          "output_type": "stream",
          "name": "stderr",
          "text": [
            "/usr/local/lib/python3.7/dist-packages/numpy/core/fromnumeric.py:87: VisibleDeprecationWarning: Creating an ndarray from ragged nested sequences (which is a list-or-tuple of lists-or-tuples-or ndarrays with different lengths or shapes) is deprecated. If you meant to do this, you must specify 'dtype=object' when creating the ndarray\n",
            "  return ufunc.reduce(obj, axis, dtype, out, **passkwargs)\n"
          ]
        }
      ]
    },
    {
      "cell_type": "code",
      "source": [
        "tangent #note this is only the return and volatility according to the statistical relationships. not an actual backtested performance"
      ],
      "metadata": {
        "colab": {
          "base_uri": "https://localhost:8080/",
          "height": 80
        },
        "id": "BfhkbSM_mLb8",
        "outputId": "72b4d1b4-0ef6-417d-8374-b28c79c84dfe"
      },
      "execution_count": 70,
      "outputs": [
        {
          "output_type": "execute_result",
          "data": {
            "text/html": [
              "\n",
              "  <div id=\"df-91cc1238-cbf5-46fd-aad7-c4051f4fbc3e\">\n",
              "    <div class=\"colab-df-container\">\n",
              "      <div>\n",
              "<style scoped>\n",
              "    .dataframe tbody tr th:only-of-type {\n",
              "        vertical-align: middle;\n",
              "    }\n",
              "\n",
              "    .dataframe tbody tr th {\n",
              "        vertical-align: top;\n",
              "    }\n",
              "\n",
              "    .dataframe thead th {\n",
              "        text-align: right;\n",
              "    }\n",
              "</style>\n",
              "<table border=\"1\" class=\"dataframe\">\n",
              "  <thead>\n",
              "    <tr style=\"text-align: right;\">\n",
              "      <th></th>\n",
              "      <th>Returns</th>\n",
              "      <th>Volatility</th>\n",
              "      <th>TLT weight</th>\n",
              "      <th>SPY weight</th>\n",
              "      <th>Sharpe</th>\n",
              "    </tr>\n",
              "  </thead>\n",
              "  <tbody>\n",
              "    <tr>\n",
              "      <th>11</th>\n",
              "      <td>0.090754</td>\n",
              "      <td>0.091174</td>\n",
              "      <td>0.331809</td>\n",
              "      <td>0.668191</td>\n",
              "      <td>0.995397</td>\n",
              "    </tr>\n",
              "  </tbody>\n",
              "</table>\n",
              "</div>\n",
              "      <button class=\"colab-df-convert\" onclick=\"convertToInteractive('df-91cc1238-cbf5-46fd-aad7-c4051f4fbc3e')\"\n",
              "              title=\"Convert this dataframe to an interactive table.\"\n",
              "              style=\"display:none;\">\n",
              "        \n",
              "  <svg xmlns=\"http://www.w3.org/2000/svg\" height=\"24px\"viewBox=\"0 0 24 24\"\n",
              "       width=\"24px\">\n",
              "    <path d=\"M0 0h24v24H0V0z\" fill=\"none\"/>\n",
              "    <path d=\"M18.56 5.44l.94 2.06.94-2.06 2.06-.94-2.06-.94-.94-2.06-.94 2.06-2.06.94zm-11 1L8.5 8.5l.94-2.06 2.06-.94-2.06-.94L8.5 2.5l-.94 2.06-2.06.94zm10 10l.94 2.06.94-2.06 2.06-.94-2.06-.94-.94-2.06-.94 2.06-2.06.94z\"/><path d=\"M17.41 7.96l-1.37-1.37c-.4-.4-.92-.59-1.43-.59-.52 0-1.04.2-1.43.59L10.3 9.45l-7.72 7.72c-.78.78-.78 2.05 0 2.83L4 21.41c.39.39.9.59 1.41.59.51 0 1.02-.2 1.41-.59l7.78-7.78 2.81-2.81c.8-.78.8-2.07 0-2.86zM5.41 20L4 18.59l7.72-7.72 1.47 1.35L5.41 20z\"/>\n",
              "  </svg>\n",
              "      </button>\n",
              "      \n",
              "  <style>\n",
              "    .colab-df-container {\n",
              "      display:flex;\n",
              "      flex-wrap:wrap;\n",
              "      gap: 12px;\n",
              "    }\n",
              "\n",
              "    .colab-df-convert {\n",
              "      background-color: #E8F0FE;\n",
              "      border: none;\n",
              "      border-radius: 50%;\n",
              "      cursor: pointer;\n",
              "      display: none;\n",
              "      fill: #1967D2;\n",
              "      height: 32px;\n",
              "      padding: 0 0 0 0;\n",
              "      width: 32px;\n",
              "    }\n",
              "\n",
              "    .colab-df-convert:hover {\n",
              "      background-color: #E2EBFA;\n",
              "      box-shadow: 0px 1px 2px rgba(60, 64, 67, 0.3), 0px 1px 3px 1px rgba(60, 64, 67, 0.15);\n",
              "      fill: #174EA6;\n",
              "    }\n",
              "\n",
              "    [theme=dark] .colab-df-convert {\n",
              "      background-color: #3B4455;\n",
              "      fill: #D2E3FC;\n",
              "    }\n",
              "\n",
              "    [theme=dark] .colab-df-convert:hover {\n",
              "      background-color: #434B5C;\n",
              "      box-shadow: 0px 1px 3px 1px rgba(0, 0, 0, 0.15);\n",
              "      filter: drop-shadow(0px 1px 2px rgba(0, 0, 0, 0.3));\n",
              "      fill: #FFFFFF;\n",
              "    }\n",
              "  </style>\n",
              "\n",
              "      <script>\n",
              "        const buttonEl =\n",
              "          document.querySelector('#df-91cc1238-cbf5-46fd-aad7-c4051f4fbc3e button.colab-df-convert');\n",
              "        buttonEl.style.display =\n",
              "          google.colab.kernel.accessAllowed ? 'block' : 'none';\n",
              "\n",
              "        async function convertToInteractive(key) {\n",
              "          const element = document.querySelector('#df-91cc1238-cbf5-46fd-aad7-c4051f4fbc3e');\n",
              "          const dataTable =\n",
              "            await google.colab.kernel.invokeFunction('convertToInteractive',\n",
              "                                                     [key], {});\n",
              "          if (!dataTable) return;\n",
              "\n",
              "          const docLinkHtml = 'Like what you see? Visit the ' +\n",
              "            '<a target=\"_blank\" href=https://colab.research.google.com/notebooks/data_table.ipynb>data table notebook</a>'\n",
              "            + ' to learn more about interactive tables.';\n",
              "          element.innerHTML = '';\n",
              "          dataTable['output_type'] = 'display_data';\n",
              "          await google.colab.output.renderOutput(dataTable, element);\n",
              "          const docLink = document.createElement('div');\n",
              "          docLink.innerHTML = docLinkHtml;\n",
              "          element.appendChild(docLink);\n",
              "        }\n",
              "      </script>\n",
              "    </div>\n",
              "  </div>\n",
              "  "
            ],
            "text/plain": [
              "     Returns  Volatility  TLT weight  SPY weight    Sharpe\n",
              "11  0.090754    0.091174    0.331809    0.668191  0.995397"
            ]
          },
          "metadata": {},
          "execution_count": 70
        }
      ]
    },
    {
      "cell_type": "markdown",
      "source": [
        "###Using bayesian optimization"
      ],
      "metadata": {
        "id": "GvESRlW9nyui"
      }
    },
    {
      "cell_type": "code",
      "source": [
        "#To use the bayes optimization algo you need to define the function you want to output(it must output a single value), \n",
        "#and the input space you sample from\n",
        "\n",
        "#note: dont change the names of the functions as they are called in the alogrithm above\n",
        "#note: bayes opt does better if function being evaluated is in the range of 1-1000\n",
        "#note: if mean error is high increase initial sample size"
      ],
      "metadata": {
        "id": "kGeFdOkanvyT"
      },
      "execution_count": 71,
      "outputs": []
    },
    {
      "cell_type": "code",
      "source": [
        "def func_approx(x):\n",
        "    perform = backtest(x, df.columns, df, days_between_rebalance = 63, rebalance_func = constant_weight_rebalance)\n",
        "    return (perform.mean()*252 / (perform.std()*np.sqrt(252))).values[0] #sharpe proxy\n",
        "\n",
        "N = len(df.columns)\n",
        "def constrained_samp(M):\n",
        "    H=np.zeros([M,N+1])\n",
        "    U=np.zeros([M,N])\n",
        "    for j in range (0,M):\n",
        "        for i in range(1,N): \n",
        "            H[j,i] = round(uniform(0,1),2)\n",
        "        H[j,N] = 1\n",
        "        H.sort()\n",
        "        for i in range(1,N+1):\n",
        "            U[j,i-1] = H[j,i] - H[j,i-1]\n",
        "    return(U)"
      ],
      "metadata": {
        "id": "4Nnc1DkgoMLs"
      },
      "execution_count": 74,
      "outputs": []
    },
    {
      "cell_type": "code",
      "source": [
        "weights, outputs, best, error = bayes_opt(starting_data = 15, search_samp = 200, optimization_steps = 5)"
      ],
      "metadata": {
        "colab": {
          "base_uri": "https://localhost:8080/"
        },
        "id": "cKWJ_ithuQkq",
        "outputId": "fe0d32da-c6d4-4497-df55-39f3d8d4db8d"
      },
      "execution_count": 87,
      "outputs": [
        {
          "output_type": "stream",
          "name": "stdout",
          "text": [
            "Best Result: \n",
            "Weights=(0.35, 0.65), \n",
            " function max=0.949551\n",
            "\n",
            "Mean Error=0.003\n",
            "time 28.239130973815918\n"
          ]
        }
      ]
    },
    {
      "cell_type": "code",
      "source": [
        "#actual backtest of mean variance optimization method for comparison\n",
        "func_approx(tangent.iloc[:,2:4].values[0])"
      ],
      "metadata": {
        "colab": {
          "base_uri": "https://localhost:8080/"
        },
        "id": "vh_GZwGCucuh",
        "outputId": "6866ce7a-6a41-4e46-a230-4f50b45c4c56"
      },
      "execution_count": 86,
      "outputs": [
        {
          "output_type": "execute_result",
          "data": {
            "text/plain": [
              "0.9480490034850723"
            ]
          },
          "metadata": {},
          "execution_count": 86
        }
      ]
    },
    {
      "cell_type": "code",
      "source": [
        "#you can see the bayesian optimization algorithm finds the more optimal solution so it works, but the important thing is it's flexability\n",
        "#you can change func_approx to output any metric about the portfolio returns you want to maximize"
      ],
      "metadata": {
        "id": "ZJcca5AVy7DE"
      },
      "execution_count": null,
      "outputs": []
    }
  ]
}